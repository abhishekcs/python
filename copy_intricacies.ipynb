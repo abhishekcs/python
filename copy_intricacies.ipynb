{
 "cells": [
  {
   "cell_type": "code",
   "execution_count": 1,
   "metadata": {},
   "outputs": [
    {
     "name": "stdout",
     "output_type": "stream",
     "text": [
      "[3, [2, 3]] [3, [2, 3]]\n"
     ]
    }
   ],
   "source": [
    "import copy\n",
    "\n",
    "a = [[1,2], [2,3]]\n",
    "b = a\n",
    "b[0] = 3\n",
    "print b, a"
   ]
  },
  {
   "cell_type": "code",
   "execution_count": 2,
   "metadata": {},
   "outputs": [
    {
     "name": "stdout",
     "output_type": "stream",
     "text": [
      "[3] [3]\n"
     ]
    }
   ],
   "source": [
    "b.pop()\n",
    "print b, a"
   ]
  },
  {
   "cell_type": "code",
   "execution_count": 3,
   "metadata": {},
   "outputs": [
    {
     "name": "stdout",
     "output_type": "stream",
     "text": [
      "[3, [2, 3]] [[1, 2], [2, 3]]\n"
     ]
    }
   ],
   "source": [
    "a = [[1, 2], [2, 3]]\n",
    "b = copy.copy(a)\n",
    "b[0] = 3\n",
    "print b, a"
   ]
  },
  {
   "cell_type": "code",
   "execution_count": 4,
   "metadata": {},
   "outputs": [
    {
     "name": "stdout",
     "output_type": "stream",
     "text": [
      "[3, [2, 5]] [[1, 2], [2, 5]]\n"
     ]
    }
   ],
   "source": [
    "b[1][1] = 5\n",
    "print b, a"
   ]
  },
  {
   "cell_type": "code",
   "execution_count": 5,
   "metadata": {},
   "outputs": [
    {
     "name": "stdout",
     "output_type": "stream",
     "text": [
      "[3] [[1, 2], [2, 5]]\n"
     ]
    }
   ],
   "source": [
    "b.pop()\n",
    "print b, a"
   ]
  },
  {
   "cell_type": "code",
   "execution_count": 6,
   "metadata": {},
   "outputs": [
    {
     "name": "stdout",
     "output_type": "stream",
     "text": [
      "[3, [2, 3]] [[1, 2], [2, 3]]\n"
     ]
    }
   ],
   "source": [
    "a = [[1, 2], [2, 3]]\n",
    "b = copy.deepcopy(a)\n",
    "b[0] = 3\n",
    "print b, a"
   ]
  },
  {
   "cell_type": "code",
   "execution_count": null,
   "metadata": {
    "collapsed": true
   },
   "outputs": [],
   "source": [
    "b[1][1]"
   ]
  }
 ],
 "metadata": {
  "kernelspec": {
   "display_name": "Python 2",
   "language": "python",
   "name": "python2"
  },
  "language_info": {
   "codemirror_mode": {
    "name": "ipython",
    "version": 2
   },
   "file_extension": ".py",
   "mimetype": "text/x-python",
   "name": "python",
   "nbconvert_exporter": "python",
   "pygments_lexer": "ipython2",
   "version": "2.7.13"
  }
 },
 "nbformat": 4,
 "nbformat_minor": 2
}
